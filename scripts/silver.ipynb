{
 "cells": [
  {
   "cell_type": "code",
   "execution_count": 2,
   "metadata": {},
   "outputs": [],
   "source": [
    "from pyspark.sql import SparkSession\n",
    "from pyspark.sql.functions import from_json, col\n",
    "from pyspark.sql.types import *"
   ]
  },
  {
   "cell_type": "code",
   "execution_count": null,
   "metadata": {},
   "outputs": [],
   "source": [
    "spark = SparkSession.builder.appName(\"Clean Typeform Data\").getOrCreate()"
   ]
  },
  {
   "cell_type": "code",
   "execution_count": 90,
   "metadata": {},
   "outputs": [],
   "source": [
    "typeform_responses_df = spark.read.option(\"multiline\", \"true\") \\\n",
    "               .option(\"quote\", '\"') \\\n",
    "               .option(\"escape\", '\"') \\\n",
    "               .option(\"header\", True) \\\n",
    "               .option(\"mode\", \"PERMISSIVE\") \\\n",
    "               .csv(\"../data/typeform_responses.csv\", header=True)"
   ]
  },
  {
   "cell_type": "markdown",
   "metadata": {},
   "source": [
    "### Answers Fact Table"
   ]
  },
  {
   "cell_type": "code",
   "execution_count": 91,
   "metadata": {},
   "outputs": [],
   "source": [
    "from pyspark.sql.functions import regexp_replace\n",
    "\n",
    "typeform_responses_df = typeform_responses_df.withColumn(\"answers_clean\", regexp_replace(\"answers\", '\"\"', '\"')) # replace two double quotes with one double quote"
   ]
  },
  {
   "cell_type": "code",
   "execution_count": 92,
   "metadata": {},
   "outputs": [],
   "source": [
    "from pyspark.sql.functions import udf\n",
    "from pyspark.sql.types import StringType\n",
    "\n",
    "def clean_json_string(s):\n",
    "    if not s or s.strip() == \"\":\n",
    "        return None\n",
    "    try:\n",
    "        s = s.strip('\"')          # Remove outer double quotes\n",
    "        return s\n",
    "    except Exception as e:\n",
    "        return None\n",
    "\n",
    "clean_json_udf = udf(clean_json_string, StringType())\n",
    "\n",
    "typeform_responses_df = typeform_responses_df.withColumn(\"answers_fixed\", clean_json_udf(\"answers_clean\"))\n"
   ]
  },
  {
   "cell_type": "code",
   "execution_count": 93,
   "metadata": {},
   "outputs": [],
   "source": [
    "from pyspark.sql.types import ArrayType, StructType, StructField, StringType, DoubleType, BooleanType, MapType\n",
    "from pyspark.sql.functions import col, from_json\n",
    "\n",
    "answer_schema = ArrayType(StructType([\n",
    "    StructField(\"field\", StructType([\n",
    "        StructField(\"id\", StringType()),\n",
    "        StructField(\"type\", StringType()),\n",
    "        StructField(\"ref\", StringType())\n",
    "    ])),\n",
    "    StructField(\"type\", StringType()),\n",
    "    StructField(\"text\", StringType()),\n",
    "    StructField(\"email\", StringType()),\n",
    "    StructField(\"number\", DoubleType()),\n",
    "    StructField(\"boolean\", BooleanType()),\n",
    "    StructField(\"date\", StringType()),\n",
    "    StructField(\"choice\", StructType([\n",
    "        StructField(\"label\", StringType()),\n",
    "        StructField(\"other\", StringType())\n",
    "    ])),\n",
    "    #StructField(\"choices\", StructType([StructField(\"labels\", ArrayType(StringType()))])),\n",
    "    StructField(\"phone_number\", StringType()),\n",
    "    StructField(\"file_url\", StringType())\n",
    "]))"
   ]
  },
  {
   "cell_type": "code",
   "execution_count": 94,
   "metadata": {},
   "outputs": [],
   "source": [
    "typeform_responses_df = typeform_responses_df.withColumn(\"answers_parsed\", from_json(col(\"answers_fixed\"), answer_schema))\n"
   ]
  },
  {
   "cell_type": "code",
   "execution_count": null,
   "metadata": {},
   "outputs": [],
   "source": [
    "typeform_responses_df.filter(col(\"answers_parsed\").isNull()).select(\"landing_id\", \"answers\").show(truncate=False, n=5) # check to see if answers has been successfully parsed\n"
   ]
  },
  {
   "cell_type": "code",
   "execution_count": null,
   "metadata": {},
   "outputs": [],
   "source": [
    "typeform_responses_df.filter(col(\"answers_parsed\").isNotNull()).select(\"landing_id\", \"answers_parsed\").show(truncate=False, n=5) # check to see if answers has been successfully parsed"
   ]
  },
  {
   "cell_type": "code",
   "execution_count": 97,
   "metadata": {},
   "outputs": [],
   "source": [
    "from pyspark.sql.functions import explode, coalesce\n",
    "\n",
    "typeform_responses_df_exploded = typeform_responses_df.withColumn(\"answers\", explode(\"answers_parsed\"))"
   ]
  },
  {
   "cell_type": "code",
   "execution_count": null,
   "metadata": {},
   "outputs": [],
   "source": [
    "typeform_responses_df.show()"
   ]
  },
  {
   "cell_type": "code",
   "execution_count": 99,
   "metadata": {},
   "outputs": [],
   "source": [
    "answers_f = typeform_responses_df_exploded.select(\n",
    "    \"landing_id\",\n",
    "    col(\"answers.field.id\").alias(\"question_id\"),\n",
    "    col(\"answers.field.ref\").alias(\"question_ref\"),\n",
    "    col(\"answers.type\").alias(\"answer_type\") ,\n",
    "    coalesce(\n",
    "        col(\"answers.text\"),\n",
    "        col(\"answers.email\"),\n",
    "        col(\"answers.number\").cast(\"string\"),\n",
    "        col(\"answers.boolean\").cast(\"string\"),\n",
    "        col(\"answers.date\"),\n",
    "        col(\"answers.phone_number\"),\n",
    "        col(\"answers.file_url\"),\n",
    "        col(\"answers.choice.label\"),\n",
    "        col(\"answers.choice.other\")\n",
    "    ).alias(\"answer_value\")\n",
    ")"
   ]
  },
  {
   "cell_type": "code",
   "execution_count": null,
   "metadata": {},
   "outputs": [],
   "source": [
    "answers_f.show()"
   ]
  },
  {
   "cell_type": "markdown",
   "metadata": {},
   "source": [
    "### Submissions Fact Table"
   ]
  },
  {
   "cell_type": "code",
   "execution_count": 101,
   "metadata": {},
   "outputs": [],
   "source": [
    "metadata_schema = StructType([\n",
    "    StructField(\"user_agent\", StringType()),\n",
    "    StructField(\"platform\", StringType()),\n",
    "    StructField(\"referer\", StringType()),\n",
    "    StructField(\"network_id\", StringType()),\n",
    "    StructField(\"browser\", StringType())\n",
    "])"
   ]
  },
  {
   "cell_type": "code",
   "execution_count": 102,
   "metadata": {},
   "outputs": [],
   "source": [
    "typeform_responses_df = typeform_responses_df.withColumn(\"metadata_parsed\", from_json(col(\"metadata\"), metadata_schema))"
   ]
  },
  {
   "cell_type": "code",
   "execution_count": 103,
   "metadata": {},
   "outputs": [],
   "source": [
    "submissions_f = typeform_responses_df.select(\n",
    "    \"landing_id\",\n",
    "    \"landed_at\",\n",
    "    \"submitted_at\",\n",
    "    \"ingest_date\",\n",
    "    # col(\"metadata_parsed.user_agent\"),\n",
    "    # col(\"metadata_parsed.platform\"),\n",
    "    col(\"metadata_parsed.referer\")\n",
    ")"
   ]
  },
  {
   "cell_type": "code",
   "execution_count": 104,
   "metadata": {},
   "outputs": [],
   "source": [
    "from pyspark.sql.functions import to_timestamp, col\n",
    "\n",
    "submissions_f = submissions_f.withColumn(\n",
    "    \"landed_at_ts\",\n",
    "    to_timestamp(col(\"landed_at\"), \"yyyy-MM-dd'T'HH:mm:ss'Z'\")\n",
    ").withColumn(\n",
    "    \"submitted_at_ts\",\n",
    "    to_timestamp(col(\"submitted_at\"), \"yyyy-MM-dd'T'HH:mm:ss'Z'\")\n",
    ").withColumn(\n",
    "    \"ingest_date_ts\",\n",
    "    to_timestamp(col(\"ingest_date\"), \"yyyy-MM-dd HH:mm:ss\")\n",
    ")"
   ]
  },
  {
   "cell_type": "code",
   "execution_count": null,
   "metadata": {},
   "outputs": [],
   "source": [
    "submissions_f.select(\"landing_id\",\n",
    "    \"landed_at\",\n",
    "    \"landed_at_ts\",\n",
    "    \"submitted_at\",\n",
    "    \"submitted_at_ts\",\n",
    "    \"ingest_date\",\n",
    "    \"ingest_date_ts\",\n",
    "    \"referer\").show(truncate=False)"
   ]
  },
  {
   "cell_type": "code",
   "execution_count": 106,
   "metadata": {},
   "outputs": [],
   "source": [
    "submissions_f = submissions_f.drop(\"landed_at\", \"submitted_at\", \"ingest_date\")"
   ]
  },
  {
   "cell_type": "code",
   "execution_count": 107,
   "metadata": {},
   "outputs": [],
   "source": [
    "from pyspark.sql.functions import expr\n",
    "\n",
    "submissions_f = submissions_f.withColumn(\"typeform_source\", expr(\"parse_url(referer, 'QUERY', 'typeform-source')\")) \\\n",
    "       .withColumn(\"utm_source\", expr(\"parse_url(referer, 'QUERY', 'utm_source')\")) \\\n",
    "       .withColumn(\"utm_medium\", expr(\"parse_url(referer, 'QUERY', 'utm_medium')\")) \\\n",
    "       .withColumn(\"utm_campaign\", expr(\"parse_url(referer, 'QUERY', 'utm_campaign')\"))\n"
   ]
  },
  {
   "cell_type": "markdown",
   "metadata": {},
   "source": []
  },
  {
   "cell_type": "code",
   "execution_count": 108,
   "metadata": {},
   "outputs": [],
   "source": [
    "submissions_f = submissions_f.drop(\"referer\")"
   ]
  },
  {
   "cell_type": "code",
   "execution_count": null,
   "metadata": {},
   "outputs": [],
   "source": [
    "submissions_f.show()"
   ]
  },
  {
   "cell_type": "markdown",
   "metadata": {},
   "source": [
    "### Writing Tables to Parquet"
   ]
  },
  {
   "cell_type": "code",
   "execution_count": null,
   "metadata": {},
   "outputs": [],
   "source": [
    "answers_f.write.mode(\"overwrite\").parquet(\"../data/answers_f\")\n",
    "submissions_f.write.mode(\"overwrite\").parquet(\"../data/submissions_f\")\n",
    "# dim_questions.write.mode(\"overwrite\").parquet(\"data/dim_questions\")"
   ]
  },
  {
   "cell_type": "code",
   "execution_count": 111,
   "metadata": {},
   "outputs": [],
   "source": [
    "spark.stop()"
   ]
  }
 ],
 "metadata": {
  "kernelspec": {
   "display_name": "myenv",
   "language": "python",
   "name": "python3"
  },
  "language_info": {
   "codemirror_mode": {
    "name": "ipython",
    "version": 3
   },
   "file_extension": ".py",
   "mimetype": "text/x-python",
   "name": "python",
   "nbconvert_exporter": "python",
   "pygments_lexer": "ipython3",
   "version": "3.11.10"
  }
 },
 "nbformat": 4,
 "nbformat_minor": 2
}
